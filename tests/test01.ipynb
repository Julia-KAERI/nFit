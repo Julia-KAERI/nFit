{
 "cells": [
  {
   "cell_type": "code",
   "execution_count": 1,
   "metadata": {},
   "outputs": [
    {
     "name": "stderr",
     "output_type": "stream",
     "text": [
      "\u001b[32m\u001b[1m  Activating\u001b[22m\u001b[39m project at `~/development/Projects/nFit.jl`\n"
     ]
    }
   ],
   "source": [
    "using Pkg\n",
    "Pkg.activate(\"..\")\n",
    "using nFit\n",
    "using LinearAlgebra, BenchmarkTools, Profile\n",
    "using ForwardDiff\n",
    "import LsqFit"
   ]
  },
  {
   "cell_type": "code",
   "execution_count": 9,
   "metadata": {},
   "outputs": [
    {
     "data": {
      "text/plain": [
       "501×4 Matrix{Float64}:\n",
       "  0.0         0.0   1.0         0.0\n",
       "  0.0199987   0.02  0.980199    0.019604\n",
       "  0.0399893   0.04  0.960789    0.0384316\n",
       "  0.059964    0.06  0.941765    0.0565059\n",
       "  0.0799147   0.08  0.923116    0.0738494\n",
       "  0.0998334   0.1   0.904837    0.0904838\n",
       "  0.119712    0.12  0.88692     0.106431\n",
       "  0.139543    0.14  0.869358    0.12171\n",
       "  0.159318    0.16  0.852144    0.136343\n",
       "  0.17903     0.18  0.83527     0.150349\n",
       "  ⋮                             \n",
       " -0.403393    9.84  5.32773e-5  0.000524253\n",
       " -0.421612    9.86  5.22223e-5  0.000514916\n",
       " -0.439662    9.88  5.11883e-5  0.000505744\n",
       " -0.457536    9.9   5.01747e-5  0.000496733\n",
       " -0.475227    9.92  4.91812e-5  0.000487881\n",
       " -0.492728    9.94  4.82073e-5  0.000479184\n",
       " -0.510032    9.96  4.72527e-5  0.000470641\n",
       " -0.527132    9.98  4.63171e-5  0.000462248\n",
       " -0.544021   10.0   4.53999e-5  0.000454003"
      ]
     },
     "metadata": {},
     "output_type": "display_data"
    }
   ],
   "source": [
    "q(x, p) = p[1]*sin(x) + p[2]*x + p[3]*exp(-x/p[4])\n",
    "\n",
    "#q2(x, p) = @. p[1] * exp(-(x-p[2])^2/p[3]) + p[4]*exp(-x/p[5]) + p[6]\n",
    "t=0.0:0.02:10.0\n",
    "data = [q(x, [5.0, 0.2, 5, 2]) for x in t]\n",
    "\n",
    "data += (rand(length(data)).- 0.5);\n",
    "\n",
    "p0 = [6.0, 6, 50.0, 5, 1, 1.0]\n",
    "lm = Fitter(q, [1.0, 1.0, 1, 1], collect(t), data, MaxIter=100)\n",
    "update_jacobian!(lm)\n",
    "lm.J\n"
   ]
  },
  {
   "cell_type": "code",
   "execution_count": 10,
   "metadata": {},
   "outputs": [
    {
     "data": {
      "text/plain": [
       "([5.045152704132915, 0.1975428142117303, 4.929210597347636, 2.0456462632784183], 6)"
      ]
     },
     "metadata": {},
     "output_type": "display_data"
    }
   ],
   "source": [
    "fit(lm, 1)"
   ]
  },
  {
   "cell_type": "code",
   "execution_count": 4,
   "metadata": {},
   "outputs": [
    {
     "data": {
      "text/plain": [
       "501×6 Matrix{Float64}:\n",
       " 0.0  0.0  0.0  1.0       0.0          1.0\n",
       " 0.0  0.0  0.0  0.999926  0.000419087  1.0\n",
       " 0.0  0.0  0.0  0.999852  0.000838113  1.0\n",
       " 0.0  0.0  0.0  0.999778  0.00125708   1.0\n",
       " 0.0  0.0  0.0  0.999704  0.00167598   1.0\n",
       " 0.0  0.0  0.0  0.99963   0.00209482   1.0\n",
       " 0.0  0.0  0.0  0.999556  0.00251359   1.0\n",
       " 0.0  0.0  0.0  0.999482  0.00293231   1.0\n",
       " 0.0  0.0  0.0  0.999407  0.00335096   1.0\n",
       " 0.0  0.0  0.0  0.999333  0.00376955   1.0\n",
       " ⋮                                     ⋮\n",
       " 0.0  0.0  0.0  0.964204  0.198825     1.0\n",
       " 0.0  0.0  0.0  0.964133  0.199214     1.0\n",
       " 0.0  0.0  0.0  0.964062  0.199604     1.0\n",
       " 0.0  0.0  0.0  0.96399   0.199993     1.0\n",
       " 0.0  0.0  0.0  0.963919  0.200382     1.0\n",
       " 0.0  0.0  0.0  0.963847  0.200771     1.0\n",
       " 0.0  0.0  0.0  0.963776  0.20116      1.0\n",
       " 0.0  0.0  0.0  0.963704  0.201549     1.0\n",
       " 0.0  0.0  0.0  0.963633  0.201938     1.0"
      ]
     },
     "metadata": {},
     "output_type": "display_data"
    }
   ],
   "source": [
    "lm.J"
   ]
  },
  {
   "cell_type": "code",
   "execution_count": null,
   "metadata": {},
   "outputs": [],
   "source": [
    "\n",
    "qs(xs, p) = [lm.f(x, p) for x in xs]\n",
    "ForwardDiff.jacobian(p ->qs(lm.xarr, p), lm.p)"
   ]
  },
  {
   "cell_type": "code",
   "execution_count": null,
   "metadata": {},
   "outputs": [],
   "source": [
    "# function update_jacobian!(lm::Fitter)\n",
    "#     qs(xs, p) = [lm.f(x, p) for x in xs]\n",
    "#     lm.J = ForwardDiff.jacobian(p ->qs(lm.xarr, p), lm.p)\n",
    "\n",
    "# end\n",
    "# function update_jacobian2!(lm::Fitter)\n",
    "#     for j ∈ eachindex(lm.p), i ∈ eachindex(lm.xarr)\n",
    "#         p1, p2 = lm.p[:], lm.p[:]\n",
    "#         p1[j] += lm.δ\n",
    "#         p2[j] -= lm.δ\n",
    "#         @inbounds lm.J[i, j] = (lm.f(lm.xarr[i], p1) - lm.f(lm.xarr[i], p2))/(2*lm.δ)\n",
    "        \n",
    "#     end\n",
    "# end\n",
    "\n",
    "@btime begin\n",
    "p = [6.0, 6, 50.0, 5, 1]\n",
    "qs(xs, p) = [p[1] * exp(-(x-p[2])^2/p[3]) + p[4]*exp(-x/p[5]) for x in xs]\n",
    "ForwardDiff.jacobian(p ->qs(t, p), p)\n",
    "end\n",
    "\n"
   ]
  },
  {
   "cell_type": "code",
   "execution_count": null,
   "metadata": {},
   "outputs": [],
   "source": [
    "@btime update_jacobian!(lm);\n",
    "lm.J"
   ]
  },
  {
   "cell_type": "code",
   "execution_count": 11,
   "metadata": {},
   "outputs": [
    {
     "data": {
      "text/plain": [
       "([5.045152704132915, 0.1975428142117303, 4.929210597347636, 2.0456462632784183], 6)"
      ]
     },
     "metadata": {},
     "output_type": "display_data"
    }
   ],
   "source": [
    "curve_fit(q, collect(t), data, [1.0, 1.0, 1, 1])"
   ]
  },
  {
   "cell_type": "code",
   "execution_count": null,
   "metadata": {},
   "outputs": [],
   "source": [
    "@btime LsqFit.curve_fit(q2, collect(t), data,[1.0, 2, 20.0, 4, 3])"
   ]
  },
  {
   "cell_type": "code",
   "execution_count": null,
   "metadata": {},
   "outputs": [],
   "source": []
  }
 ],
 "metadata": {
  "kernelspec": {
   "display_name": "Julia 1.11.2",
   "language": "julia",
   "name": "julia-1.11"
  },
  "language_info": {
   "file_extension": ".jl",
   "mimetype": "application/julia",
   "name": "julia",
   "version": "1.11.2"
  }
 },
 "nbformat": 4,
 "nbformat_minor": 2
}
